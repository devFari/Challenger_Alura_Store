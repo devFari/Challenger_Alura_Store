{
  "nbformat": 4,
  "nbformat_minor": 0,
  "metadata": {
    "colab": {
      "provenance": []
    },
    "kernelspec": {
      "name": "python3",
      "display_name": "Python 3"
    },
    "language_info": {
      "name": "python"
    }
  },
  "cells": [
    {
      "cell_type": "markdown",
      "source": [
        "### Importação dos dados\n",
        "\n"
      ],
      "metadata": {
        "id": "RhEdWd9YUR6H"
      }
    },
    {
      "cell_type": "code",
      "source": [
        "#importações\n",
        "import pandas as pd\n",
        "import matplotlib.pyplot as plt\n",
        "import seaborn as sns\n",
        "import numpy as np"
      ],
      "metadata": {
        "id": "1GXRHgCIFVmB"
      },
      "execution_count": 13,
      "outputs": []
    },
    {
      "cell_type": "code",
      "execution_count": null,
      "metadata": {
        "id": "T3EvaeQ_INIL"
      },
      "outputs": [],
      "source": [
        "url = \"https://raw.githubusercontent.com/alura-es-cursos/challenge1-data-science/refs/heads/main/base-de-dados-challenge-1/loja_1.csv\"\n",
        "url2 = \"https://raw.githubusercontent.com/alura-es-cursos/challenge1-data-science/refs/heads/main/base-de-dados-challenge-1/loja_2.csv\"\n",
        "url3 = \"https://raw.githubusercontent.com/alura-es-cursos/challenge1-data-science/refs/heads/main/base-de-dados-challenge-1/loja_3.csv\"\n",
        "url4 = \"https://raw.githubusercontent.com/alura-es-cursos/challenge1-data-science/refs/heads/main/base-de-dados-challenge-1/loja_4.csv\"\n",
        "\n",
        "loja = pd.read_csv(url)\n",
        "loja2 = pd.read_csv(url2)\n",
        "loja3 = pd.read_csv(url3)\n",
        "loja4 = pd.read_csv(url4)\n",
        "\n",
        "loja.head()\n"
      ]
    },
    {
      "cell_type": "code",
      "source": [
        "# Concatenar os dados das quatro lojas\n",
        "todas_lojas = pd.concat([loja, loja2, loja3, loja4])"
      ],
      "metadata": {
        "id": "dtKbv-q_FTg5"
      },
      "execution_count": 15,
      "outputs": []
    },
    {
      "cell_type": "markdown",
      "source": [
        "#1. Análise do faturamento\n"
      ],
      "metadata": {
        "id": "X62IW3KFUIYm"
      }
    },
    {
      "cell_type": "code",
      "source": [
        "# Calculando o faturamento total de cada loja\n",
        "faturamento_loja1 = loja[\"Preço\"].sum()\n",
        "faturamento_loja2 = loja2[\"Preço\"].sum()\n",
        "faturamento_loja3 = loja3[\"Preço\"].sum()\n",
        "faturamento_loja4 = loja4[\"Preço\"].sum()\n",
        "\n",
        "faturamento_loja1, faturamento_loja2, faturamento_loja3, faturamento_loja4"
      ],
      "metadata": {
        "id": "xykobSftV64I"
      },
      "execution_count": null,
      "outputs": []
    },
    {
      "cell_type": "markdown",
      "source": [
        "# 2. Vendas por Categoria\n"
      ],
      "metadata": {
        "id": "2V_vcAPzWZmR"
      }
    },
    {
      "cell_type": "code",
      "source": [
        "# Contar produtos por categoria em cada loja\n",
        "contagem_loja1 = loja['Categoria do Produto'].value_counts().reset_index()\n",
        "contagem_loja1.columns = ['Categoria', 'Quantidade']\n",
        "contagem_loja1['Loja'] = 'Loja 1'\n",
        "\n",
        "contagem_loja2 = loja2['Categoria do Produto'].value_counts().reset_index()\n",
        "contagem_loja2.columns = ['Categoria', 'Quantidade']\n",
        "contagem_loja2['Loja'] = 'Loja 2'\n",
        "\n",
        "contagem_loja3 = loja3['Categoria do Produto'].value_counts().reset_index()\n",
        "contagem_loja3.columns = ['Categoria', 'Quantidade']\n",
        "contagem_loja3['Loja'] = 'Loja 3'\n",
        "\n",
        "contagem_loja4 = loja4['Categoria do Produto'].value_counts().reset_index()\n",
        "contagem_loja4.columns = ['Categoria', 'Quantidade']\n",
        "contagem_loja4['Loja'] = 'Loja 4'\n",
        "\n",
        "# Juntar todas as contagens em um único DataFrame para análise\n",
        "contagem_total = pd.concat([contagem_loja1, contagem_loja2, contagem_loja3, contagem_loja4])\n",
        "print(contagem_total)"
      ],
      "metadata": {
        "id": "A34YupIuYhfF"
      },
      "execution_count": null,
      "outputs": []
    },
    {
      "cell_type": "markdown",
      "source": [
        "# 3. Média de Avaliação das Lojas"
      ],
      "metadata": {
        "id": "Rq6tU_xSY3jk"
      }
    },
    {
      "cell_type": "code",
      "source": [
        "# Contar avaliações por loja\n",
        "avaliacoes_loja1 = loja['Avaliação da compra'].value_counts().sort_index()\n",
        "avaliacoes_loja2 = loja2['Avaliação da compra'].value_counts().sort_index()\n",
        "avaliacoes_loja3 = loja3['Avaliação da compra'].value_counts().sort_index()\n",
        "avaliacoes_loja4 = loja4['Avaliação da compra'].value_counts().sort_index()\n",
        "\n",
        "# Criar um DataFrame resumido\n",
        "resumo_avaliacoes = pd.DataFrame({\n",
        "    'Loja 1': avaliacoes_loja1,\n",
        "    'Loja 2': avaliacoes_loja2,\n",
        "    'Loja 3': avaliacoes_loja3,\n",
        "    'Loja 4': avaliacoes_loja4\n",
        "}).fillna(0).astype(int)  # Preencher missing values com 0\n",
        "\n",
        "print(resumo_avaliacoes)"
      ],
      "metadata": {
        "id": "bh3jjjJwY5MU"
      },
      "execution_count": null,
      "outputs": []
    },
    {
      "cell_type": "markdown",
      "source": [
        "# 4. Produtos Mais e Menos Vendidos"
      ],
      "metadata": {
        "id": "DmNp1KPBZCm-"
      }
    },
    {
      "cell_type": "code",
      "source": [
        "# Função para analisar os produtos mais e menos vendidos\n",
        "def analisar_vendas(frequencia_produtos):\n",
        "    produto_mais_vendido = frequencia_produtos.idxmax()\n",
        "    quantidade_mais_vendido = frequencia_produtos.max()\n",
        "\n",
        "    produto_menos_vendido = frequencia_produtos.idxmin()\n",
        "    quantidade_menos_vendido = frequencia_produtos.min()\n",
        "\n",
        "    return {\n",
        "        \"produto_mais_vendido\": produto_mais_vendido,\n",
        "        \"quantidade_mais_vendido\": quantidade_mais_vendido,\n",
        "        \"produto_menos_vendido\": produto_menos_vendido,\n",
        "        \"quantidade_menos_vendido\": quantidade_menos_vendido\n",
        "    }\n",
        "\n",
        "# Contar quantas vezes cada produto aparece em cada loja\n",
        "frequencia_produtos1 = loja['Produto'].value_counts()\n",
        "frequencia_produtos2 = loja2['Produto'].value_counts()\n",
        "frequencia_produtos3 = loja3['Produto'].value_counts()\n",
        "frequencia_produtos4 = loja4['Produto'].value_counts()\n",
        "\n",
        "# Analisando cada loja\n",
        "resultados = [\n",
        "    (\"Loja 1\", analisar_vendas(frequencia_produtos1)),\n",
        "    (\"Loja 2\", analisar_vendas(frequencia_produtos2)),\n",
        "    (\"Loja 3\", analisar_vendas(frequencia_produtos3)),\n",
        "    (\"Loja 4\", analisar_vendas(frequencia_produtos4)),\n",
        "]\n",
        "\n",
        "# Exibindo resultados de todas as lojas\n",
        "for nome_loja, resultado in resultados:\n",
        "    print(f\"\\n📊 **Resultados para a {nome_loja}:**\")\n",
        "    print(f\"→ Produto MAIS vendido: '{resultado['produto_mais_vendido']}' (aparece {resultado['quantidade_mais_vendido']} vezes)\")\n",
        "    print(f\"→ Produto MENOS vendido: '{resultado['produto_menos_vendido']}' (aparece {resultado['quantidade_menos_vendido']} vezes)\")"
      ],
      "metadata": {
        "id": "6gfKEnh-AAaY"
      },
      "execution_count": null,
      "outputs": []
    },
    {
      "cell_type": "markdown",
      "source": [
        "# 5. Frete Médio por Loja\n"
      ],
      "metadata": {
        "id": "Fl0cGi3bZKqU"
      }
    },
    {
      "cell_type": "code",
      "source": [
        "# Verificar o tipo de dado da coluna 'Frete' em cada loja\n",
        "print(\"Loja 1 - Tipo de dado do Frete:\", loja['Frete'].dtype)\n",
        "print(\"Loja 2 - Tipo de dado do Frete:\", loja2['Frete'].dtype)\n",
        "print(\"Loja 3 - Tipo de dado do Frete:\", loja3['Frete'].dtype)\n",
        "print(\"Loja 4 - Tipo de dado do Frete:\", loja4['Frete'].dtype)"
      ],
      "metadata": {
        "id": "S2JeaCykZNy9"
      },
      "execution_count": null,
      "outputs": []
    },
    {
      "cell_type": "code",
      "source": [
        "# Calcular a média do frete por loja\n",
        "media_frete_loja1 = loja['Frete'].mean()\n",
        "media_frete_loja2 = loja2['Frete'].mean()\n",
        "media_frete_loja3 = loja3['Frete'].mean()\n",
        "media_frete_loja4 = loja4['Frete'].mean()\n",
        "\n",
        "# Criar um DataFrame para visualização\n",
        "medias_frete = pd.DataFrame({\n",
        "    'Loja': ['Loja 1', 'Loja 2', 'Loja 3', 'Loja 4'],\n",
        "    'Média do Frete (R$)': [\n",
        "        media_frete_loja1,\n",
        "        media_frete_loja2,\n",
        "        media_frete_loja3,\n",
        "        media_frete_loja4\n",
        "    ]\n",
        "})\n",
        "\n",
        "print(medias_frete)"
      ],
      "metadata": {
        "id": "0tSdCie9ZQlt"
      },
      "execution_count": null,
      "outputs": []
    },
    {
      "cell_type": "markdown",
      "source": [
        "#*Graficos*"
      ],
      "metadata": {
        "id": "nujzQXg05LYD"
      }
    },
    {
      "cell_type": "markdown",
      "source": [
        "##grafico 01\n"
      ],
      "metadata": {
        "id": "x-iPg6JDBcOK"
      }
    },
    {
      "cell_type": "code",
      "source": [
        "# Dados\n",
        "lojas = ['Loja 1', 'Loja 2', 'Loja 3', 'Loja 4']\n",
        "faturamentos = [faturamento_loja1, faturamento_loja2, faturamento_loja3, faturamento_loja4]\n",
        "\n",
        "# Criar o gráfico\n",
        "plt.figure(figsize=(10, 6))  # Tamanho do gráfico\n",
        "bars = plt.bar(lojas, faturamentos, color=['skyblue', 'lightgreen', 'salmon', 'gold'])\n",
        "\n",
        "# Adicionar os valores em cima de cada barra\n",
        "for bar in bars:\n",
        "    height = bar.get_height()\n",
        "    plt.text(bar.get_x() + bar.get_width()/2., height,\n",
        "             f'R${height:,.2f}',\n",
        "             ha='center', va='bottom')\n",
        "\n",
        "# Personalizar\n",
        "plt.title('Faturamento por Loja', fontsize=16)\n",
        "plt.xlabel('Lojas', fontsize=12)\n",
        "plt.ylabel('Faturamento (R$)', fontsize=12)\n",
        "plt.grid(axis='y', linestyle='--', alpha=0.7)\n",
        "\n",
        "# Mostrar\n",
        "plt.show()"
      ],
      "metadata": {
        "id": "zXiFU0H_5OJC"
      },
      "execution_count": null,
      "outputs": []
    },
    {
      "cell_type": "markdown",
      "source": [
        "##Grafico 02\n"
      ],
      "metadata": {
        "id": "3xsHHcTOBiuf"
      }
    },
    {
      "cell_type": "code",
      "source": [
        "# Configurar o gráfico quantidade de Vendas por Categoria em Cada Loja\n",
        "\n",
        "# Agrupar por categoria e somar as quantidades totais\n",
        "categorias_totais = contagem_total.groupby('Categoria')['Quantidade'].sum().sort_values(ascending=False)\n",
        "\n",
        "# Configurações do gráfico\n",
        "plt.figure(figsize=(10, 8))\n",
        "colors = ['#ff9999' if i == 0 else '#66b3ff' for i in range(len(categorias_totais))]  # Destaca a maior categoria\n",
        "explode = [0.1 if i == 0 else 0 for i in range(len(categorias_totais))]  # \"Explode\" a maior fatia\n",
        "\n",
        "# Criar o gráfico\n",
        "plt.pie(\n",
        "    categorias_totais,\n",
        "    labels=categorias_totais.index,\n",
        "    autopct='%1.1f%%',\n",
        "    startangle=90,\n",
        "    colors=colors,\n",
        "    explode=explode,\n",
        "    shadow=True\n",
        ")\n",
        "\n",
        "# Ajustes finais\n",
        "plt.title('Distribuição de Vendas por Categoria', fontsize=16)\n",
        "plt.axis('equal')  # Garante que o gráfico fique circular\n",
        "\n",
        "# Mostrar\n",
        "plt.show()"
      ],
      "metadata": {
        "id": "9jX72dQT5fsA"
      },
      "execution_count": null,
      "outputs": []
    },
    {
      "cell_type": "markdown",
      "source": [
        "##grafico 03"
      ],
      "metadata": {
        "id": "DmDvRdpBBlQB"
      }
    },
    {
      "cell_type": "code",
      "source": [
        "# Configurar o gráfico média das Avaliações por Loja\n",
        "\n",
        "# Dados do DataFrame resumo_avaliacoes\n",
        "avaliacoes = resumo_avaliacoes.index\n",
        "lojas = resumo_avaliacoes.columns\n",
        "\n",
        "# Cores para cada loja (como você definiu)\n",
        "cores = ['skyblue', 'lightgreen', 'salmon', 'gold']\n",
        "\n",
        "# Configurações do gráfico\n",
        "plt.figure(figsize=(14, 7))\n",
        "bar_width = 0.2  # Largura das barras\n",
        "x_pos = np.arange(len(avaliacoes))  # Posições no eixo X\n",
        "\n",
        "# Criar as barras para cada loja\n",
        "for i, loja in enumerate(lojas):\n",
        "    plt.bar(\n",
        "        x_pos + i * bar_width,  # Deslocamento horizontal para cada loja\n",
        "        resumo_avaliacoes[loja],\n",
        "        width=bar_width,\n",
        "        color=cores[i],\n",
        "        label=loja\n",
        "    )\n",
        "\n",
        "# Personalização do gráfico\n",
        "plt.title('Quantidade de Avaliações por Loja', fontsize=16, pad=20)\n",
        "plt.xlabel('Avaliação (estrelas)', fontsize=12)\n",
        "plt.ylabel('Quantidade de Avaliações', fontsize=12)\n",
        "plt.xticks(x_pos + bar_width * 1.5, ['1 estrela', '2 estrelas', '3 estrelas', '4 estrelas', '5 estrelas'])\n",
        "plt.legend(title='Lojas', fontsize=10)\n",
        "plt.grid(axis='y', linestyle='--', alpha=0.7)\n",
        "\n",
        "# Adicionar os valores em cima de cada barra\n",
        "for i, loja in enumerate(lojas):\n",
        "    for j, avaliacao in enumerate(avaliacoes):\n",
        "        plt.text(\n",
        "            x=x_pos[j] + i * bar_width,\n",
        "            y=resumo_avaliacoes.loc[avaliacao, loja] + 3,  # 3 unidades acima da barra\n",
        "            s=str(resumo_avaliacoes.loc[avaliacao, loja]),\n",
        "            ha='center',\n",
        "            fontsize=10\n",
        "        )\n",
        "\n",
        "plt.tight_layout()\n",
        "plt.show()"
      ],
      "metadata": {
        "id": "fV41XWl65sTQ"
      },
      "execution_count": null,
      "outputs": []
    },
    {
      "cell_type": "markdown",
      "source": [
        "##grafico 04"
      ],
      "metadata": {
        "id": "jssXOpGiBnmc"
      }
    },
    {
      "cell_type": "code",
      "source": [
        "# Preparar os dados para o gráfico\n",
        "lojas = [resultado[0] for resultado in resultados]\n",
        "mais_vendidos = [resultado[1]['quantidade_mais_vendido'] for resultado in resultados]\n",
        "menos_vendidos = [resultado[1]['quantidade_menos_vendido'] for resultado in resultados]\n",
        "nomes_mais_vendidos = [resultado[1]['produto_mais_vendido'] for resultado in resultados]\n",
        "nomes_menos_vendidos = [resultado[1]['produto_menos_vendido'] for resultado in resultados]\n",
        "\n",
        "# Configurações do gráfico\n",
        "fig, ax = plt.subplots(figsize=(12, 8))\n",
        "bar_height = 0.35  # Altura das barras\n",
        "indices = np.arange(len(lojas))  # Posições no eixo Y\n",
        "\n",
        "# Criar as barras\n",
        "bar1 = ax.barh(indices - bar_height/2, mais_vendidos, bar_height,\n",
        "               color='skyblue', label='Mais vendido')\n",
        "bar2 = ax.barh(indices + bar_height/2, menos_vendidos, bar_height,\n",
        "               color='salmon', label='Menos vendido')\n",
        "\n",
        "# Personalização\n",
        "ax.set_yticks(indices)\n",
        "ax.set_yticklabels(lojas)\n",
        "ax.set_xlabel('Quantidade de Vendas')\n",
        "ax.set_title('Comparação entre Produtos Mais e Menos Vendidos por Loja')\n",
        "ax.legend()\n",
        "\n",
        "# Adicionar os nomes dos produtos nas barras\n",
        "for i, (v1, v2) in enumerate(zip(mais_vendidos, menos_vendidos)):\n",
        "    ax.text(v1 + 1, i - bar_height/2, f\"{nomes_mais_vendidos[i]}\",\n",
        "            ha='left', va='center', color='black', fontweight='bold')\n",
        "    ax.text(v2 + 1, i + bar_height/2, f\"{nomes_menos_vendidos[i]}\",\n",
        "            ha='left', va='center', color='black', fontweight='bold')\n",
        "\n",
        "plt.tight_layout()\n",
        "plt.show()"
      ],
      "metadata": {
        "id": "ePpVxm5V53Ep"
      },
      "execution_count": null,
      "outputs": []
    },
    {
      "cell_type": "markdown",
      "source": [
        "##grafico 05\n"
      ],
      "metadata": {
        "id": "b3SuB3V_Bq_2"
      }
    },
    {
      "cell_type": "code",
      "source": [
        "# Configurar o gráfico custo Médio de Frete por Loja\n",
        "plt.figure(figsize=(10, 6))\n",
        "bars = plt.bar(\n",
        "    medias_frete['Loja'],\n",
        "    medias_frete['Média do Frete (R$)'],\n",
        "    color= ['skyblue', 'lightgreen', 'salmon', 'gold']\n",
        ")\n",
        "\n",
        "# Adicionar os valores em cima das barras\n",
        "for bar in bars:\n",
        "    height = bar.get_height()\n",
        "    plt.text(\n",
        "        bar.get_x() + bar.get_width() / 2,\n",
        "        height,\n",
        "        f'R$ {height:.2f}',\n",
        "        ha='center',\n",
        "        va='bottom'\n",
        "    )\n",
        "\n",
        "# Personalizar o gráfico\n",
        "plt.title('Custo Médio de Frete por Loja', fontsize=16)\n",
        "plt.xlabel('Loja', fontsize=12)\n",
        "plt.ylabel('Média do Frete (R$)', fontsize=12)\n",
        "plt.grid(axis='y', linestyle='--', alpha=0.6)\n",
        "plt.show()"
      ],
      "metadata": {
        "id": "_4K393ZJ6SG_"
      },
      "execution_count": null,
      "outputs": []
    }
  ]
}